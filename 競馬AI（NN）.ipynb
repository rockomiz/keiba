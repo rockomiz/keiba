{
  "nbformat": 4,
  "nbformat_minor": 0,
  "metadata": {
    "colab": {
      "name": "競馬AI（NN）.ipynb",
      "provenance": []
    },
    "kernelspec": {
      "name": "python3",
      "display_name": "Python 3"
    }
  },
  "cells": [
    {
      "cell_type": "code",
      "metadata": {
        "colab": {
          "base_uri": "https://localhost:8080/"
        },
        "id": "kL_Gcr5iOiXf",
        "outputId": "3976077e-c16b-46b1-ff1d-f6c289e230ba"
      },
      "source": [
        "from google.colab import drive\n",
        "drive.mount('/content/drive')"
      ],
      "execution_count": 1,
      "outputs": [
        {
          "output_type": "stream",
          "text": [
            "Mounted at /content/drive\n"
          ],
          "name": "stdout"
        }
      ]
    },
    {
      "cell_type": "code",
      "metadata": {
        "id": "L7NxljmpOr7w"
      },
      "source": [
        "# 目標は回収率１００％超えにすること。\n",
        "import pandas as pd\n",
        "import numpy as np\n",
        "import matplotlib.pyplot as plt\n",
        "import seaborn as sns\n",
        "from google.colab import files\n",
        "from itertools import cycle\n",
        "from sklearn.model_selection import train_test_split\n",
        "from sklearn.model_selection import StratifiedKFold\n",
        "from sklearn.metrics import accuracy_score, roc_curve, roc_auc_score\n",
        "from sklearn.preprocessing import LabelEncoder, StandardScaler\n",
        "!pip install eli5\n",
        "from eli5.sklearn import PermutationImportance\n",
        "from keras.wrappers.scikit_learn import KerasClassifier, KerasRegressor\n",
        "from keras.callbacks import EarlyStopping, ModelCheckpoint"
      ],
      "execution_count": null,
      "outputs": []
    },
    {
      "cell_type": "code",
      "metadata": {
        "id": "WcKySfbjOz8c"
      },
      "source": [
        "# データの読み込み\n",
        "# パスは適宜変更してください\n",
        "keiba_data = pd.read_csv('/content/drive/MyDrive/競馬.csv', encoding = \"shift-jis\")"
      ],
      "execution_count": 31,
      "outputs": []
    },
    {
      "cell_type": "code",
      "metadata": {
        "id": "lhhzx9l0O13m"
      },
      "source": [
        "keiba_data"
      ],
      "execution_count": null,
      "outputs": []
    },
    {
      "cell_type": "code",
      "metadata": {
        "id": "wx24V_ADYG2z"
      },
      "source": [
        "# Unnamed0のカラムは日付、レース番号、馬番号なのでrenameして分割。\n",
        "keiba_data.rename(columns={\"Unnamed: 0\":\"date_num\"},inplace=True)\n",
        "keiba_data[\"date_num\"]=keiba_data[\"date_num\"].astype(str)\n",
        "keiba_data[\"race_num\"]=keiba_data[\"date_num\"].str[0:12].astype(int)\n",
        "keiba_data[\"horse_num\"]=keiba_data[\"date_num\"].str[12:14].astype(int)\n",
        "keiba_data.drop(columns=[\"date_num\"],inplace=True)\n",
        "# 扱いやすいようにrace_numとhorse_numは一番左に配置。\n",
        "keiba_data=keiba_data.reindex(columns=[\"race_num\",\"horse_num\",'age', 'c_weight', 'course', 'date', 'field', 'gender', 'head_count',\n",
        "       'horse_name', 'j_weight', 'jackie', 'odds', 'popu', 'race', 'race_name',\n",
        "       'rank', 'trainerA', 'trainerB', 'weight', 'year'])"
      ],
      "execution_count": 33,
      "outputs": []
    },
    {
      "cell_type": "markdown",
      "metadata": {
        "id": "6zbnpXsdUs8p"
      },
      "source": [
        "#欠損値の確認\n"
      ]
    },
    {
      "cell_type": "code",
      "metadata": {
        "id": "M7LL2sc-w1Iv"
      },
      "source": [
        "keiba_data.isnull().sum()"
      ],
      "execution_count": null,
      "outputs": []
    },
    {
      "cell_type": "code",
      "metadata": {
        "id": "a2X8v_ONX9Lh"
      },
      "source": [
        "keiba_data.head()"
      ],
      "execution_count": null,
      "outputs": []
    },
    {
      "cell_type": "code",
      "metadata": {
        "id": "-PfpjakBXq-W"
      },
      "source": [
        "#欠損値処理\n",
        "keiba_data[\"c_weight\"].fillna(0,inplace=True)\n",
        "keiba_data[\"j_weight\"].fillna(keiba_data[\"j_weight\"].mean(),inplace=True)\n",
        "keiba_data[\"weight\"].fillna(keiba_data[\"weight\"].mean(),inplace=True)\n",
        "keiba_data.dropna(subset=[\"odds\"],inplace=True)\n",
        "keiba_data.dropna(subset=[\"popu\"],inplace=True)\n",
        "keiba_data.dropna(subset=[\"race_name\"],inplace=True)"
      ],
      "execution_count": 35,
      "outputs": []
    },
    {
      "cell_type": "code",
      "metadata": {
        "id": "MePNezb_XtSV"
      },
      "source": [
        "#labelencoderを使って、カテゴリ変数を変換。\n",
        "le=LabelEncoder()\n",
        "keiba_categorical = keiba_data[[\"gender\",\"field\",\"horse_name\",\"course\",\"head_count\",\"trainerA\",\"trainerB\",\"race\",\"jackie\",\"race_name\"]].apply(le.fit_transform)\n",
        "keiba_categorical = keiba_categorical.rename(columns={\"race_name\":\"race_name_c\",\"filed\":\"field_c\",\"gender\":\"gender_c\",\"horse_name\":\"horse_name_c\",\"course\":\"course_c\",\"head_count\":\"head_count_c\",\"trainerA\":\"trainerA_c\",\"trainerB\":\"trainerB_c\",\"jackie\":\"jackie_c\"})\n",
        "keiba_data = pd.concat([keiba_data,keiba_categorical],axis=1)\n",
        "# 変換前と不要な列を削除\n",
        "keiba_data.drop(columns=[\"race_num\",\"horse_num\",\"date\",\"year\",\"race_name\",\"race\",\"trainerA\",\"trainerB\",\"course\",\"field\",\"gender\",\"jackie\",\"head_count\",\"horse_name\"],inplace=True)"
      ],
      "execution_count": 36,
      "outputs": []
    },
    {
      "cell_type": "code",
      "metadata": {
        "id": "AAyCNfiaXytt"
      },
      "source": [
        "# 特徴量生成\n",
        "# １つ目はにoddsとpopuの積\n",
        "# ２つ目は前回の体重\n",
        "keiba_data[\"odds_popu\"]=keiba_data[\"odds\"]*keiba_data[\"popu\"]\n",
        "keiba_data[\"pre_weight\"]=keiba_data[\"weight\"]-keiba_data[\"c_weight\"]"
      ],
      "execution_count": 37,
      "outputs": []
    },
    {
      "cell_type": "code",
      "metadata": {
        "id": "boXaz2ObYa3Z"
      },
      "source": [
        "# rankの確認\n",
        "keiba_data[\"rank\"].unique()"
      ],
      "execution_count": null,
      "outputs": []
    },
    {
      "cell_type": "code",
      "metadata": {
        "id": "FzWxBTWOYd-h"
      },
      "source": [
        "#中止、失格の数をそれぞれ確認。\n",
        "\n",
        "a=keiba_data[\"rank\"][keiba_data[\"rank\"]==\"中止\"].count()\n",
        "b=keiba_data[\"rank\"][keiba_data[\"rank\"]==\"失格\"].count()\n",
        "print(a,b)"
      ],
      "execution_count": null,
      "outputs": []
    },
    {
      "cell_type": "code",
      "metadata": {
        "id": "fKMawnksYWdb"
      },
      "source": [
        "#中止、失格の行は全て削除する。\n",
        "\n",
        "delete_index = keiba_data.index[(keiba_data[\"rank\"]==\"中止\") | (keiba_data[\"rank\"]==\"失格\")]\n",
        "keiba_data.drop(delete_index,inplace=True)"
      ],
      "execution_count": 40,
      "outputs": []
    },
    {
      "cell_type": "code",
      "metadata": {
        "id": "VcX1kYnoBXPU"
      },
      "source": [
        "# 1,2,3着かそれ以外かを分割して、２値分類問題にする。\n",
        "keiba_data[\"rank\"]=keiba_data[\"rank\"].astype(int)\n",
        "keiba_data = keiba_data.assign(target = (keiba_data['rank'] <= 3).astype(int))"
      ],
      "execution_count": 41,
      "outputs": []
    },
    {
      "cell_type": "code",
      "metadata": {
        "colab": {
          "base_uri": "https://localhost:8080/",
          "height": 411
        },
        "id": "qJ2dFeI21n0-",
        "outputId": "e0f5ae4a-41b7-41b7-a9c5-74d25635e75b"
      },
      "source": [
        "keiba_data"
      ],
      "execution_count": 42,
      "outputs": [
        {
          "output_type": "execute_result",
          "data": {
            "text/html": [
              "<div>\n",
              "<style scoped>\n",
              "    .dataframe tbody tr th:only-of-type {\n",
              "        vertical-align: middle;\n",
              "    }\n",
              "\n",
              "    .dataframe tbody tr th {\n",
              "        vertical-align: top;\n",
              "    }\n",
              "\n",
              "    .dataframe thead th {\n",
              "        text-align: right;\n",
              "    }\n",
              "</style>\n",
              "<table border=\"1\" class=\"dataframe\">\n",
              "  <thead>\n",
              "    <tr style=\"text-align: right;\">\n",
              "      <th></th>\n",
              "      <th>age</th>\n",
              "      <th>c_weight</th>\n",
              "      <th>j_weight</th>\n",
              "      <th>odds</th>\n",
              "      <th>popu</th>\n",
              "      <th>rank</th>\n",
              "      <th>weight</th>\n",
              "      <th>gender_c</th>\n",
              "      <th>horse_name_c</th>\n",
              "      <th>course_c</th>\n",
              "      <th>head_count_c</th>\n",
              "      <th>trainerA_c</th>\n",
              "      <th>trainerB_c</th>\n",
              "      <th>jackie_c</th>\n",
              "      <th>race_name_c</th>\n",
              "      <th>odds_popu</th>\n",
              "      <th>pre_weight</th>\n",
              "      <th>target</th>\n",
              "    </tr>\n",
              "  </thead>\n",
              "  <tbody>\n",
              "    <tr>\n",
              "      <th>0</th>\n",
              "      <td>2</td>\n",
              "      <td>0.0</td>\n",
              "      <td>54.0</td>\n",
              "      <td>4.3</td>\n",
              "      <td>2.0</td>\n",
              "      <td>1</td>\n",
              "      <td>468.0</td>\n",
              "      <td>1</td>\n",
              "      <td>30089</td>\n",
              "      <td>17</td>\n",
              "      <td>4</td>\n",
              "      <td>4</td>\n",
              "      <td>621</td>\n",
              "      <td>379</td>\n",
              "      <td>1461</td>\n",
              "      <td>8.6</td>\n",
              "      <td>468.0</td>\n",
              "      <td>1</td>\n",
              "    </tr>\n",
              "    <tr>\n",
              "      <th>1</th>\n",
              "      <td>2</td>\n",
              "      <td>0.0</td>\n",
              "      <td>54.0</td>\n",
              "      <td>5.2</td>\n",
              "      <td>4.0</td>\n",
              "      <td>2</td>\n",
              "      <td>460.0</td>\n",
              "      <td>2</td>\n",
              "      <td>191</td>\n",
              "      <td>17</td>\n",
              "      <td>4</td>\n",
              "      <td>2</td>\n",
              "      <td>426</td>\n",
              "      <td>699</td>\n",
              "      <td>1461</td>\n",
              "      <td>20.8</td>\n",
              "      <td>460.0</td>\n",
              "      <td>1</td>\n",
              "    </tr>\n",
              "    <tr>\n",
              "      <th>2</th>\n",
              "      <td>2</td>\n",
              "      <td>2.0</td>\n",
              "      <td>54.0</td>\n",
              "      <td>3.1</td>\n",
              "      <td>1.0</td>\n",
              "      <td>3</td>\n",
              "      <td>442.0</td>\n",
              "      <td>2</td>\n",
              "      <td>4764</td>\n",
              "      <td>17</td>\n",
              "      <td>4</td>\n",
              "      <td>4</td>\n",
              "      <td>165</td>\n",
              "      <td>407</td>\n",
              "      <td>1461</td>\n",
              "      <td>3.1</td>\n",
              "      <td>440.0</td>\n",
              "      <td>1</td>\n",
              "    </tr>\n",
              "    <tr>\n",
              "      <th>3</th>\n",
              "      <td>2</td>\n",
              "      <td>-4.0</td>\n",
              "      <td>54.0</td>\n",
              "      <td>23.0</td>\n",
              "      <td>8.0</td>\n",
              "      <td>4</td>\n",
              "      <td>482.0</td>\n",
              "      <td>2</td>\n",
              "      <td>56823</td>\n",
              "      <td>17</td>\n",
              "      <td>4</td>\n",
              "      <td>2</td>\n",
              "      <td>327</td>\n",
              "      <td>428</td>\n",
              "      <td>1461</td>\n",
              "      <td>184.0</td>\n",
              "      <td>486.0</td>\n",
              "      <td>0</td>\n",
              "    </tr>\n",
              "    <tr>\n",
              "      <th>4</th>\n",
              "      <td>2</td>\n",
              "      <td>-20.0</td>\n",
              "      <td>54.0</td>\n",
              "      <td>21.9</td>\n",
              "      <td>6.0</td>\n",
              "      <td>5</td>\n",
              "      <td>484.0</td>\n",
              "      <td>1</td>\n",
              "      <td>52788</td>\n",
              "      <td>17</td>\n",
              "      <td>4</td>\n",
              "      <td>2</td>\n",
              "      <td>446</td>\n",
              "      <td>739</td>\n",
              "      <td>1461</td>\n",
              "      <td>131.4</td>\n",
              "      <td>504.0</td>\n",
              "      <td>0</td>\n",
              "    </tr>\n",
              "    <tr>\n",
              "      <th>...</th>\n",
              "      <td>...</td>\n",
              "      <td>...</td>\n",
              "      <td>...</td>\n",
              "      <td>...</td>\n",
              "      <td>...</td>\n",
              "      <td>...</td>\n",
              "      <td>...</td>\n",
              "      <td>...</td>\n",
              "      <td>...</td>\n",
              "      <td>...</td>\n",
              "      <td>...</td>\n",
              "      <td>...</td>\n",
              "      <td>...</td>\n",
              "      <td>...</td>\n",
              "      <td>...</td>\n",
              "      <td>...</td>\n",
              "      <td>...</td>\n",
              "      <td>...</td>\n",
              "    </tr>\n",
              "    <tr>\n",
              "      <th>535589</th>\n",
              "      <td>4</td>\n",
              "      <td>-2.0</td>\n",
              "      <td>55.0</td>\n",
              "      <td>243.4</td>\n",
              "      <td>16.0</td>\n",
              "      <td>12</td>\n",
              "      <td>424.0</td>\n",
              "      <td>1</td>\n",
              "      <td>12382</td>\n",
              "      <td>6</td>\n",
              "      <td>6</td>\n",
              "      <td>2</td>\n",
              "      <td>617</td>\n",
              "      <td>431</td>\n",
              "      <td>1470</td>\n",
              "      <td>3894.4</td>\n",
              "      <td>426.0</td>\n",
              "      <td>0</td>\n",
              "    </tr>\n",
              "    <tr>\n",
              "      <th>535590</th>\n",
              "      <td>3</td>\n",
              "      <td>2.0</td>\n",
              "      <td>52.0</td>\n",
              "      <td>69.2</td>\n",
              "      <td>12.0</td>\n",
              "      <td>13</td>\n",
              "      <td>472.0</td>\n",
              "      <td>1</td>\n",
              "      <td>4913</td>\n",
              "      <td>6</td>\n",
              "      <td>6</td>\n",
              "      <td>2</td>\n",
              "      <td>732</td>\n",
              "      <td>374</td>\n",
              "      <td>1470</td>\n",
              "      <td>830.4</td>\n",
              "      <td>470.0</td>\n",
              "      <td>0</td>\n",
              "    </tr>\n",
              "    <tr>\n",
              "      <th>535591</th>\n",
              "      <td>4</td>\n",
              "      <td>0.0</td>\n",
              "      <td>55.0</td>\n",
              "      <td>39.5</td>\n",
              "      <td>9.0</td>\n",
              "      <td>14</td>\n",
              "      <td>444.0</td>\n",
              "      <td>1</td>\n",
              "      <td>50537</td>\n",
              "      <td>6</td>\n",
              "      <td>6</td>\n",
              "      <td>2</td>\n",
              "      <td>797</td>\n",
              "      <td>403</td>\n",
              "      <td>1470</td>\n",
              "      <td>355.5</td>\n",
              "      <td>444.0</td>\n",
              "      <td>0</td>\n",
              "    </tr>\n",
              "    <tr>\n",
              "      <th>535592</th>\n",
              "      <td>4</td>\n",
              "      <td>-2.0</td>\n",
              "      <td>53.0</td>\n",
              "      <td>27.5</td>\n",
              "      <td>7.0</td>\n",
              "      <td>15</td>\n",
              "      <td>468.0</td>\n",
              "      <td>1</td>\n",
              "      <td>30314</td>\n",
              "      <td>6</td>\n",
              "      <td>6</td>\n",
              "      <td>2</td>\n",
              "      <td>654</td>\n",
              "      <td>95</td>\n",
              "      <td>1470</td>\n",
              "      <td>192.5</td>\n",
              "      <td>470.0</td>\n",
              "      <td>0</td>\n",
              "    </tr>\n",
              "    <tr>\n",
              "      <th>535593</th>\n",
              "      <td>3</td>\n",
              "      <td>4.0</td>\n",
              "      <td>52.0</td>\n",
              "      <td>27.0</td>\n",
              "      <td>6.0</td>\n",
              "      <td>16</td>\n",
              "      <td>466.0</td>\n",
              "      <td>1</td>\n",
              "      <td>35699</td>\n",
              "      <td>6</td>\n",
              "      <td>6</td>\n",
              "      <td>2</td>\n",
              "      <td>195</td>\n",
              "      <td>723</td>\n",
              "      <td>1470</td>\n",
              "      <td>162.0</td>\n",
              "      <td>462.0</td>\n",
              "      <td>0</td>\n",
              "    </tr>\n",
              "  </tbody>\n",
              "</table>\n",
              "<p>530700 rows × 18 columns</p>\n",
              "</div>"
            ],
            "text/plain": [
              "        age  c_weight  j_weight  ...  odds_popu  pre_weight  target\n",
              "0         2       0.0      54.0  ...        8.6       468.0       1\n",
              "1         2       0.0      54.0  ...       20.8       460.0       1\n",
              "2         2       2.0      54.0  ...        3.1       440.0       1\n",
              "3         2      -4.0      54.0  ...      184.0       486.0       0\n",
              "4         2     -20.0      54.0  ...      131.4       504.0       0\n",
              "...     ...       ...       ...  ...        ...         ...     ...\n",
              "535589    4      -2.0      55.0  ...     3894.4       426.0       0\n",
              "535590    3       2.0      52.0  ...      830.4       470.0       0\n",
              "535591    4       0.0      55.0  ...      355.5       444.0       0\n",
              "535592    4      -2.0      53.0  ...      192.5       470.0       0\n",
              "535593    3       4.0      52.0  ...      162.0       462.0       0\n",
              "\n",
              "[530700 rows x 18 columns]"
            ]
          },
          "metadata": {
            "tags": []
          },
          "execution_count": 42
        }
      ]
    },
    {
      "cell_type": "code",
      "metadata": {
        "id": "kq9QYirzJbgL"
      },
      "source": [
        "# 目的変数との分割\n",
        "X = keiba_data.drop(['rank','target'], axis=1)\n",
        "y = keiba_data['target']"
      ],
      "execution_count": 43,
      "outputs": []
    },
    {
      "cell_type": "code",
      "metadata": {
        "id": "AZQyRQ6tcZT0"
      },
      "source": [
        "# 標準化してないtrainデータとtestデータの分割\n",
        "X_train_orig, X_test_orig, y_train_orig, y_test_orig = train_test_split(X, y, test_size=0.33, random_state=0)"
      ],
      "execution_count": 44,
      "outputs": []
    },
    {
      "cell_type": "code",
      "metadata": {
        "id": "S3dM_qgTJdQd"
      },
      "source": [
        "# 標準化\n",
        "ss = StandardScaler()\n",
        "X_ss = ss.fit_transform(X)"
      ],
      "execution_count": 45,
      "outputs": []
    },
    {
      "cell_type": "code",
      "metadata": {
        "id": "YsWXApNeHtNA"
      },
      "source": [
        "# 標準化したtrainデータとtestデータの分割\n",
        "X_train, X_test, y_train, y_test = train_test_split(X_ss, y, test_size=0.33, random_state=0)"
      ],
      "execution_count": 46,
      "outputs": []
    },
    {
      "cell_type": "markdown",
      "metadata": {
        "id": "jqwFCJ8dYli_"
      },
      "source": [
        "モデルの構築"
      ]
    },
    {
      "cell_type": "code",
      "metadata": {
        "id": "TTINeHU3YidL"
      },
      "source": [
        "# ニューラルネットワークに必要なモジュールのimport\n",
        "\n",
        "import keras\n",
        "from keras.models import Model,Sequential\n",
        "from keras.layers import Input, Dense, Activation, Dropout\n",
        "from keras.layers import Conv2D, GlobalAveragePooling2D\n",
        "from keras.layers import BatchNormalization, Add, Dense\n",
        "from keras.callbacks import ModelCheckpoint\n",
        "from keras.utils import to_categorical\n",
        "from keras.initializers import he_normal\n",
        "import keras.backend as K"
      ],
      "execution_count": 47,
      "outputs": []
    },
    {
      "cell_type": "code",
      "metadata": {
        "id": "HcwIaMOzYuUL"
      },
      "source": [
        "def create_model(optimizer='adam', init='glorot_normal'): \n",
        "    \n",
        "    model = Sequential()\n",
        "    model.add(Dense(16, input_dim=X.shape[1], kernel_initializer=init, activation='relu'))\n",
        "    model.add(Dense(8, kernel_initializer=init, activation='relu'))\n",
        "    model.add(Dense(4, kernel_initializer=init, activation='relu'))\n",
        "    model.add(Dense(1, kernel_initializer=init, activation='sigmoid')) #最後の活性化関数は２値分類なのでsigmoidを使用。多値分類だとsoftmaxを使用するとよい。sigmoidの一般化がsoftmax。\n",
        "\n",
        "    #2値分類なのでbinary_crossentropyを使う\n",
        "    model.compile(loss='binary_crossentropy', optimizer=optimizer, metrics=['accuracy'])\n",
        "    return model\n",
        "\n",
        "model = create_model()"
      ],
      "execution_count": 48,
      "outputs": []
    },
    {
      "cell_type": "code",
      "metadata": {
        "id": "zcoX-ypCbmgG"
      },
      "source": [
        "model.summary()"
      ],
      "execution_count": null,
      "outputs": []
    },
    {
      "cell_type": "code",
      "metadata": {
        "id": "fprk_ZsFe7aR"
      },
      "source": [
        "X_train.shape"
      ],
      "execution_count": null,
      "outputs": []
    },
    {
      "cell_type": "code",
      "metadata": {
        "id": "gW1CkWAMfC5x"
      },
      "source": [
        "#checkpointとearystoppingの設定\n",
        "es = EarlyStopping(monitor='val_loss', patience=3, verbose=1)\n",
        "cp = ModelCheckpoint(filepath = 'best_model.h5', monitor='val_loss', save_best_only=True, verbose=1)\n",
        "\n",
        "history = model.fit(x=X_train, y=y_train, \n",
        "          validation_data=(X_test, y_test), \n",
        "          batch_size=512, \n",
        "          epochs=100, \n",
        "          shuffle=True,\n",
        "          callbacks=[es, cp]\n",
        "         )"
      ],
      "execution_count": null,
      "outputs": []
    },
    {
      "cell_type": "code",
      "metadata": {
        "id": "q5bheywC0ptQ"
      },
      "source": [
        "acc = history.history['accuracy']\n",
        "val_acc = history.history['val_accuracy']\n",
        "loss = history.history['loss']\n",
        "val_loss = history.history['val_loss']\n",
        "epochs = range(len(acc))\n",
        "\n",
        "plt.figure()               \n",
        "plt.title(\"accuracy\")\n",
        "plt.plot(epochs, acc, label=\"train_accuracy\")\n",
        "plt.plot(epochs, val_acc, label=\"val_accuracy\")\n",
        "\n",
        "plt.legend(loc=\"lower right\")\n",
        "plt.show()"
      ],
      "execution_count": null,
      "outputs": []
    },
    {
      "cell_type": "code",
      "metadata": {
        "id": "Xl5DMJBR07X_"
      },
      "source": [
        "from sklearn.metrics import roc_curve\n",
        "import matplotlib.pyplot as plt\n",
        "\n",
        "y_pred = model.predict(X_test)\n",
        "\n",
        "fpr, tpr, thresholds = roc_curve(y_test, y_pred)\n",
        "\n",
        "plt.plot(fpr, tpr, marker='o')\n",
        "plt.xlabel('FPR: False positive rate')\n",
        "plt.ylabel('TPR: True positive rate')\n",
        "plt.grid()"
      ],
      "execution_count": null,
      "outputs": []
    },
    {
      "cell_type": "code",
      "metadata": {
        "colab": {
          "base_uri": "https://localhost:8080/"
        },
        "id": "X1rZKXb-C2Mt",
        "outputId": "465007d6-e300-49a3-945f-8e4d66f2cadb"
      },
      "source": [
        "pred = model.predict(X_test)\n",
        "print(roc_auc_score(y_test, pred))"
      ],
      "execution_count": 62,
      "outputs": [
        {
          "output_type": "stream",
          "text": [
            "0.8123455644872033\n"
          ],
          "name": "stdout"
        }
      ]
    }
  ]
}